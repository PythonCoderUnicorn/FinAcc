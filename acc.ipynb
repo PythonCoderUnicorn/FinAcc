{
 "cells": [
  {
   "cell_type": "code",
   "execution_count": null,
   "metadata": {},
   "outputs": [],
   "source": []
  },
  {
   "cell_type": "markdown",
   "metadata": {},
   "source": [
    "chart of accounts"
   ]
  },
  {
   "cell_type": "code",
   "execution_count": 1,
   "metadata": {},
   "outputs": [],
   "source": [
    "chart_of_accounts = {\n",
    "    # assets\n",
    "    '100': 'cash',\n",
    "    '110': 'accounts receivable',\n",
    "    '150': 'supplies', \n",
    "    '155': 'prepaid insurance',\n",
    "    '200': 'equipment',\n",
    "    '201': 'accumulated depreciations - equipment',\n",
    "    # liabilities\n",
    "    '300': 'accounts payable',\n",
    "    '310': 'salaries payable',\n",
    "    '320': 'interest payable',\n",
    "    '330': 'unearned revenue',\n",
    "    '340': 'bank loan payable',\n",
    "    # shareholder equity\n",
    "    '400': 'common shares',\n",
    "    '450': 'retained earnings',\n",
    "    '460': 'dividends declared',\n",
    "    # revenues\n",
    "    '500': 'service revenue',\n",
    "    # expenses\n",
    "    '700': 'salaries expense',\n",
    "    '710': 'supplies expense',\n",
    "    '750': 'rent expense',\n",
    "    '760': 'depreciation expense',\n",
    "    '820': 'insurance expense',\n",
    "    '840': 'interest expense',\n",
    "    '900': 'income tax expense'\n",
    "}"
   ]
  },
  {
   "cell_type": "markdown",
   "metadata": {},
   "source": [
    "trial balance , debit on left and credit on right side"
   ]
  },
  {
   "cell_type": "code",
   "execution_count": 2,
   "metadata": {},
   "outputs": [],
   "source": [
    "trial = {\n",
    "    'cash': 11_400,\n",
    "    'accounts_receivable': 11_000,\n",
    "    'supplies': 2_500,\n",
    "    'prepaid_insurance': 600,\n",
    "    'equipment': 5_000,\n",
    "\n",
    "    'accounts_payable': 1500,\n",
    "    'unearned_revenue': 1200,\n",
    "    'bank_loan_payable': 5000,\n",
    "    'common_shares': 10_000,\n",
    "\n",
    "    'dividends_declared': 500,\n",
    "    'service_revenue': 20_000,\n",
    "    'salaries_expense': 4000,\n",
    "    'rent_expense': 900,\n",
    "    'income_tax_expense': 1800\n",
    "}"
   ]
  },
  {
   "cell_type": "code",
   "execution_count": 6,
   "metadata": {},
   "outputs": [],
   "source": [
    "def trial_balance( trial):\n",
    "\n",
    "    total_debit = trial['cash'] + trial['accounts_receivable'] + trial['supplies'] \\\n",
    "        + trial['prepaid_insurance'] + trial['equipment'] + trial['dividends_declared'] \\\n",
    "        + trial['salaries_expense'] + trial['rent_expense'] + trial['income_tax_expense']\n",
    "\n",
    "\n",
    "    total_credit = trial['accounts_payable'] + trial['unearned_revenue'] + \\\n",
    "        trial['bank_loan_payable'] + trial['common_shares'] + trial['service_revenue']\n",
    "\n",
    "    print(\"Debit = ${:,}  |  Credit = ${:,}\".format(total_debit, total_credit))"
   ]
  },
  {
   "cell_type": "code",
   "execution_count": 7,
   "metadata": {},
   "outputs": [
    {
     "name": "stdout",
     "output_type": "stream",
     "text": [
      "Debit = $37,700  |  Credit = $37,700\n"
     ]
    }
   ],
   "source": [
    "trial_balance( trial ) "
   ]
  },
  {
   "cell_type": "code",
   "execution_count": null,
   "metadata": {},
   "outputs": [],
   "source": []
  },
  {
   "cell_type": "markdown",
   "metadata": {},
   "source": [
    "# chapter 10"
   ]
  },
  {
   "cell_type": "code",
   "execution_count": 19,
   "metadata": {},
   "outputs": [],
   "source": [
    "# annual property taxes \n",
    "\n",
    "company_property = {\n",
    "    'property_tax_bill' : 6000,\n",
    "    'bill_data_month_number': 3  # 2 months have passed for this company, year end Dec 31\n",
    "}\n",
    "\n"
   ]
  },
  {
   "cell_type": "code",
   "execution_count": 24,
   "metadata": {},
   "outputs": [],
   "source": [
    "def property_tax( dict_):\n",
    "    tax_months = dict_['bill_data_month_number'] / 12\n",
    "    current_property_tax_payable = dict_['property_tax_bill'] * tax_months\n",
    "\n",
    "    remain = dict_['property_tax_bill'] - current_property_tax_payable\n",
    "\n",
    "    print(f\"Property tax payable (current) = ${current_property_tax_payable}\")\n",
    "    print(f\" Remainder ${remain} \")"
   ]
  },
  {
   "cell_type": "code",
   "execution_count": 25,
   "metadata": {},
   "outputs": [
    {
     "name": "stdout",
     "output_type": "stream",
     "text": [
      "Property tax payable (current) = $1500.0\n",
      " Remainder $4500.0 \n"
     ]
    }
   ],
   "source": [
    "property_tax( company_property )"
   ]
  },
  {
   "cell_type": "markdown",
   "metadata": {},
   "source": [
    "### payroll\n",
    "\n",
    "3 types of liabilities  related to employee salaries or wages\n",
    "\n",
    "1. `salaries` the amount owed to employee, per week, per 2 wk, per month, per year\n",
    "2. `gross pay` employee payroll deductions from gross earnings, `net pay` is what is paid to employee\n",
    "3. employer payroll obligations, such as CPP, EI and benefits and holiday pay"
   ]
  },
  {
   "cell_type": "code",
   "execution_count": 51,
   "metadata": {},
   "outputs": [],
   "source": [
    "# employer accrues salaries of $100,000 for week ending March 9\n",
    "payroll_deductions = {\n",
    "    'salaries_expense': 100_000,\n",
    "    # credit, right side\n",
    "    'CPP_payable': 4950,\n",
    "    'EI_payable': 2632,\n",
    "    'employee_income_tax_payable': 20_427, # employee's tax  (not what the companany itself owes)\n",
    "    'workers_compensation': 1575,\n",
    "    'union_dues_payable': 1037,\n",
    "    'health_insurance_benefits_payable': 2930\n",
    "}\n",
    "\n"
   ]
  },
  {
   "cell_type": "code",
   "execution_count": 58,
   "metadata": {},
   "outputs": [],
   "source": [
    "def payroll( dict_ ):\n",
    "    deduct_sum = dict_['CPP_payable'] + \\\n",
    "                 dict_['EI_payable'] + \\\n",
    "                 dict_['employee_income_tax_payable'] + \\\n",
    "                 dict_['workers_compensation'] + \\\n",
    "                 dict_['union_dues_payable'] + \\\n",
    "                 dict_['health_insurance_benefits_payable']\n",
    "\n",
    "    salaries_payable = dict_['salaries_expense'] - deduct_sum\n",
    "    benefit_expense = deduct_sum - dict_['employee_income_tax_payable'] \n",
    "\n",
    "    print(\"Salaries expense (employee pay) = ${:,}\".format(salaries_payable))\n",
    "    print(\"Employee benefits expense = ${:,}\".format(benefit_expense))\n",
    "    print(\"payroll deduction remittance = ${:,}\".format(deduct_sum))\n"
   ]
  },
  {
   "cell_type": "code",
   "execution_count": 59,
   "metadata": {},
   "outputs": [
    {
     "name": "stdout",
     "output_type": "stream",
     "text": [
      "Salaries expense (employee pay) = $66,449\n",
      "Employee benefits expense = $13,124\n",
      "payroll deduction remittance = $33,551\n"
     ]
    }
   ],
   "source": [
    "payroll( payroll_deductions)"
   ]
  },
  {
   "cell_type": "markdown",
   "metadata": {},
   "source": [
    "short term notes payable (trade payables) used in short term financing needs\n",
    "\n",
    "`account payable` has an invoice and informal promise to pay (credit purchases), used to extend credit for short term. no interest incur unless overdue\n",
    "\n",
    "`note payable` is formal written promise to pay that gives the payee a string legal claim, long term, has interest for full duration"
   ]
  },
  {
   "cell_type": "code",
   "execution_count": 65,
   "metadata": {},
   "outputs": [],
   "source": [
    "# bank loan $100k on March 1, bank loan payable, due in 4 months July 1, interest at 3%\n",
    "bank_loan = {\n",
    "    'principal_amount': 100_000,\n",
    "    'interest_rate':  0.03,\n",
    "    'month_issued': 3,\n",
    "    'month_loan_due': 7\n",
    "}"
   ]
  },
  {
   "cell_type": "code",
   "execution_count": 107,
   "metadata": {},
   "outputs": [],
   "source": [
    "def shortterm_loan( dict_ ):\n",
    "    month = 1 / 12\n",
    "    interest_payable = dict_['principal_amount'] * dict_['interest_rate'] * month\n",
    "\n",
    "\n",
    "    loan_months = (dict_['month_loan_due'] - dict_['month_issued']) / 12 # 4 / 12 = 0.33\n",
    "    \n",
    "    principal_amt = loan_months * dict_['principal_amount'] * dict_['interest_rate'] \n",
    "\n",
    "    total_loan_payable = dict_['principal_amount'] + principal_amt\n",
    "\n",
    "    print(f\"Interest payable = ${interest_payable} (for 1st month)\")\n",
    "    print(\"Interest amount = ${:.2f}\".format(principal_amt)) \n",
    "    print(\"Bank loan & interest payable = ${:,}\".format(total_loan_payable))"
   ]
  },
  {
   "cell_type": "code",
   "execution_count": 108,
   "metadata": {},
   "outputs": [
    {
     "name": "stdout",
     "output_type": "stream",
     "text": [
      "Interest payable = $250.0 (for 1st month)\n",
      "Interest amount = $1000.00\n",
      "Bank loan & interest payable = $101,000.0\n"
     ]
    }
   ],
   "source": [
    "shortterm_loan( bank_loan )"
   ]
  },
  {
   "cell_type": "markdown",
   "metadata": {},
   "source": [
    "<!-- property taxes -->"
   ]
  },
  {
   "cell_type": "markdown",
   "metadata": {},
   "source": [
    "`non-current liability` obligation expected to be paid after 1 yar or more\n",
    "\n",
    "`installments` payments paid monthly, annually or defined intervals of time\n",
    "\n",
    "- interest on unpaid balance of the loan\n",
    "- repayment of a portion of the loan principal\n",
    "\n",
    "installment payments\n",
    "\n",
    "- fixed principal payments plus interest\n",
    "- blended principal and interest payments"
   ]
  },
  {
   "cell_type": "code",
   "execution_count": 146,
   "metadata": {},
   "outputs": [],
   "source": [
    "# Jan 1, 2018 Company borrows $120,000 from bank for 5 yr period, interest rate of 4%\n",
    "bank_loan = {\n",
    "    'principal_amount': 120_000,\n",
    "    'interest_rate':  0.04,\n",
    "    'month_issued': 1,\n",
    "    'loan_duration_yrs': 5 \n",
    "}"
   ]
  },
  {
   "cell_type": "code",
   "execution_count": 149,
   "metadata": {},
   "outputs": [],
   "source": [
    "def fixed_principal_interest( dict_ ):\n",
    "    month = 1 / 12\n",
    "     #  # 60  = 12 * 5 yrs = 60 months\n",
    "    loan_duration=  dict_['loan_duration_yrs'] * 12\n",
    "\n",
    "\n",
    "    # B - interest expense\n",
    "    interest_payable = dict_['principal_amount'] * dict_['interest_rate'] * month\n",
    "\n",
    "    \n",
    "    # C - reduction_in_principal \n",
    "    bank_loan_payable = bank_loan['principal_amount'] / loan_duration\n",
    "\n",
    "    # A = B + C\n",
    "    installment =  interest_payable + bank_loan_payable \n",
    "\n",
    "    # balance minus interest\n",
    "    principal_bal = dict_['principal_amount'] - installment\n",
    "\n",
    "\n",
    "    print(\"Bank loan amount = ${:,}\".format(dict_['principal_amount']))\n",
    "    print(\"Interest expense = ${:,}\".format(interest_payable))      # B\n",
    "    print(\"Bank loan payable = ${:,}\".format(bank_loan_payable) )   # C\n",
    "    print(\"Loan installment (cash) payment = ${:,}\".format(installment))   # A\n",
    "    print(\"Principal balance ... ${:,}\".format(principal_bal))"
   ]
  },
  {
   "cell_type": "markdown",
   "metadata": {},
   "source": [
    "### now only update the principal amount after each run to get running installment payment schedule"
   ]
  },
  {
   "cell_type": "code",
   "execution_count": 150,
   "metadata": {},
   "outputs": [
    {
     "name": "stdout",
     "output_type": "stream",
     "text": [
      "Bank loan amount = $120,000\n",
      "Interest expense = $400.0\n",
      "Bank loan payable = $2,000.0\n",
      "Loan installment (cash) payment = $2,400.0\n",
      "Principal balance ... $117,600.0\n"
     ]
    }
   ],
   "source": [
    "fixed_principal_interest(  bank_loan )\n",
    "\n",
    "# update the principal amount for each month"
   ]
  },
  {
   "cell_type": "code",
   "execution_count": null,
   "metadata": {},
   "outputs": [],
   "source": [
    "# BLENDED PRINCIPAL & INTEREST  P.536"
   ]
  },
  {
   "cell_type": "code",
   "execution_count": null,
   "metadata": {},
   "outputs": [],
   "source": []
  }
 ],
 "metadata": {
  "kernelspec": {
   "display_name": "Python 3.8.2 64-bit",
   "language": "python",
   "name": "python3"
  },
  "language_info": {
   "codemirror_mode": {
    "name": "ipython",
    "version": 3
   },
   "file_extension": ".py",
   "mimetype": "text/x-python",
   "name": "python",
   "nbconvert_exporter": "python",
   "pygments_lexer": "ipython3",
   "version": "3.8.2"
  },
  "orig_nbformat": 4,
  "vscode": {
   "interpreter": {
    "hash": "31f2aee4e71d21fbe5cf8b01ff0e069b9275f58929596ceb00d14d90e3e16cd6"
   }
  }
 },
 "nbformat": 4,
 "nbformat_minor": 2
}
