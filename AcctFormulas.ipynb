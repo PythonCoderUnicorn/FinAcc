{
 "cells": [
  {
   "cell_type": "markdown",
   "metadata": {},
   "source": [
    "# Accounting Formulas \n",
    "\n",
    "chapter 1"
   ]
  },
  {
   "cell_type": "code",
   "execution_count": 104,
   "metadata": {},
   "outputs": [],
   "source": [
    "\n",
    "def net_income(revenue:int, expenses: int):\n",
    "    net = revenue - expenses\n",
    "    print(f\"Net income = ${net}\")\n"
   ]
  },
  {
   "cell_type": "code",
   "execution_count": 92,
   "metadata": {},
   "outputs": [
    {
     "name": "stdout",
     "output_type": "stream",
     "text": [
      "Shareholder equity (common share) = $10000\n"
     ]
    }
   ],
   "source": [
    "def shareholder_equity(shares1, shares_issued, shares_repurchased):\n",
    "    common_share = shares1 + shares_issued - shares_repurchased\n",
    "    print(f\"Shareholder equity (common share) = ${common_share}\")\n",
    "\n",
    "\n",
    "shareholder_equity(0,10_000,0)"
   ]
  },
  {
   "cell_type": "markdown",
   "metadata": {},
   "source": [
    "net income = revenue - expenses\n",
    "\n",
    "retained earnings at end of period = \n",
    "retained earnings beginning of period + net income - dividends declared"
   ]
  },
  {
   "cell_type": "code",
   "execution_count": 160,
   "metadata": {},
   "outputs": [
    {
     "name": "stdout",
     "output_type": "stream",
     "text": [
      "Retained earnings =  $10542\n",
      "Total shareholder Equity = $20542\n"
     ]
    }
   ],
   "source": [
    "def retained_earnings(balance_earnings, \n",
    "    net_income, \n",
    "    other_income, \n",
    "    changes_to_equity,\n",
    "    dividends_declared, \n",
    "    shares_issued ):\n",
    "\n",
    "    ret_earn = balance_earnings + net_income + other_income - dividends_declared - changes_to_equity\n",
    "    tot_eq = ret_earn + shares_issued\n",
    "    print(f\"Retained earnings =  ${ret_earn}\")\n",
    "    print(f\"Total shareholder Equity = ${tot_eq}\")\n",
    "\n",
    "\n",
    "retained_earnings(0,11042,0,0,500, 10000)"
   ]
  },
  {
   "cell_type": "code",
   "execution_count": 103,
   "metadata": {},
   "outputs": [
    {
     "name": "stdout",
     "output_type": "stream",
     "text": [
      "Total liabilities & equity = $29067\n",
      "Total assets = $29067\n"
     ]
    }
   ],
   "source": [
    "import array\n",
    "\n",
    "ret_earnings = 10542\n",
    "\n",
    "\n",
    "cash = 37243\n",
    "acct_receivable = 79373\n",
    "inventory = 1\n",
    "\n",
    "\n",
    "assets = []\n",
    "#[11400,11200,1000,550,4917]\n",
    "\n",
    "def balance_sheet(liabilities, shareholder_equity):\n",
    "    assets_ = liabilities + shareholder_equity + ret_earnings\n",
    "    print(f\"Total liabilities & equity = ${assets_}\")\n",
    "\n",
    "    print(f\"Total assets = ${sum(assets)}\")\n",
    "\n",
    "\n",
    "balance_sheet(8525,10000)"
   ]
  },
  {
   "cell_type": "markdown",
   "metadata": {},
   "source": [
    "statement of cash flows - info about the cash receipts and cash payments of a business for a specific period of time\n",
    "\n",
    "report on \n",
    "\n",
    "- operating activities\n",
    "- investing activities\n",
    "- financing activities during period of time"
   ]
  },
  {
   "cell_type": "code",
   "execution_count": 182,
   "metadata": {},
   "outputs": [],
   "source": [
    "# 18465 + 11953\n",
    "\n",
    "def accum_comp_income(balance_earnings, other_income):\n",
    "    acc_income = balance_earnings + other_income\n",
    "    print(f\"Accumulated other comprehensive income = ${acc_income}\")\n",
    "\n",
    "# 2831 + 124 - 335\n",
    "\n"
   ]
  },
  {
   "cell_type": "code",
   "execution_count": 310,
   "metadata": {},
   "outputs": [],
   "source": [
    "def total_equity(balance_earnings, net_earnings, other_income, changes_to_equity, dividends_declared, shares_issued):\n",
    "    tot_eq = balance_earnings + net_earnings + other_income + changes_to_equity - dividends_declared + shares_issued\n",
    "    print(f\"Total Equity (cash) = ${tot_eq}\")\n",
    "\n",
    "def other_income(other_balance_earnings, changes_to_equity, shares_issued):\n",
    "    total_other = other_balance_earnings + changes_to_equity - shares_issued\n",
    "    print(\"---- STATEMENT OF CHANGES IN SHAREHOLDER'S EQUITY ---\")\n",
    "    print(f\"Total other = ${total_other}\")"
   ]
  },
  {
   "cell_type": "code",
   "execution_count": null,
   "metadata": {},
   "outputs": [],
   "source": []
  },
  {
   "cell_type": "code",
   "execution_count": null,
   "metadata": {},
   "outputs": [],
   "source": []
  },
  {
   "cell_type": "code",
   "execution_count": null,
   "metadata": {},
   "outputs": [],
   "source": []
  },
  {
   "cell_type": "code",
   "execution_count": null,
   "metadata": {},
   "outputs": [],
   "source": []
  },
  {
   "cell_type": "code",
   "execution_count": null,
   "metadata": {},
   "outputs": [],
   "source": []
  },
  {
   "cell_type": "markdown",
   "metadata": {},
   "source": [
    "statement of income"
   ]
  },
  {
   "cell_type": "code",
   "execution_count": 331,
   "metadata": {},
   "outputs": [
    {
     "name": "stdout",
     "output_type": "stream",
     "text": [
      "--------- STATEMENT OF INCOME ----------\n",
      "Gross profit = $522614\n",
      "Total expenses = $107321\n",
      "Earnings before income taxes = $101111\n",
      "Net earnings (profit) = $69779\n",
      "----------------------------------------\n",
      "\n"
     ]
    }
   ],
   "source": [
    "sales = 1_796_035\n",
    "cost_of_sales = 1_273_421\n",
    "selling_operating_admin_expense = 415_293\n",
    "interest_expense = 6210\n",
    "income_taxes = 31332\n",
    "\n",
    "\n",
    "\n",
    "\n",
    "def statement_of_earnings(sales, cost_of_sales, selling_operating_admin_expense, interest_expense, income_taxes):\n",
    "\n",
    "    gross_profit = sales - cost_of_sales\n",
    "    total_expenses = gross_profit - selling_operating_admin_expense\n",
    "    earning_before_income_tax = total_expenses - interest_expense\n",
    "    net_earnings = earning_before_income_tax - income_taxes\n",
    "\n",
    "    print(\"--------- STATEMENT OF INCOME ----------\")\n",
    "    print(f\"Gross profit = ${gross_profit}\")\n",
    "    print(f\"Total expenses = ${total_expenses}\")\n",
    "    print(f\"Earnings before income taxes = ${earning_before_income_tax}\")\n",
    "    print(f\"Net earnings (profit) = ${net_earnings}\")\n",
    "    print(\"----------------------------------------\\n\")\n",
    "\n",
    "\n",
    "\n",
    "statement_of_earnings(sales, cost_of_sales, selling_operating_admin_expense, interest_expense, income_taxes)"
   ]
  },
  {
   "cell_type": "markdown",
   "metadata": {},
   "source": [
    "```\n",
    "balance, (date)             share capital:  $167,460\n",
    "issue of common shares                      450\n",
    "shares repurchased                          0\n",
    "```"
   ]
  },
  {
   "cell_type": "code",
   "execution_count": 312,
   "metadata": {},
   "outputs": [
    {
     "name": "stdout",
     "output_type": "stream",
     "text": [
      "---- STATEMENT OF CHANGES IN SHAREHOLDER'S EQUITY ---\n",
      "Total other = $2620\n"
     ]
    }
   ],
   "source": [
    "other_balance_earnings= 2831\n",
    "changes_to_equity= 124\n",
    "shares_issued=335\n",
    "other_income(other_balance_earnings, changes_to_equity, shares_issued)"
   ]
  },
  {
   "cell_type": "code",
   "execution_count": 313,
   "metadata": {},
   "outputs": [
    {
     "name": "stdout",
     "output_type": "stream",
     "text": [
      "---- STATEMENT OF CHANGES IN SHAREHOLDER'S EQUITY ------\n",
      "Shareholder equity (common share) = $167910\n",
      "Retained earnings =  $156664\n",
      "Total shareholder Equity = $156664\n",
      "Accumulated other comprehensive income = $30418\n",
      "Total Equity (cash) = $357612\n",
      "-------------------------------------------------------\n",
      "\n"
     ]
    }
   ],
   "source": [
    "print(\"---- STATEMENT OF CHANGES IN SHAREHOLDER'S EQUITY ------\")\n",
    "shareholder_equity(167460,450,0)\n",
    "\n",
    "balance_earnings = 140527\n",
    "net_income = 69779\n",
    "other_income = 4583\n",
    "changes_to_equity = 15\n",
    "dividends_declared =58210\n",
    "shares_issued = 0\n",
    "\n",
    "\n",
    "retained_earnings(balance_earnings, net_income, other_income, changes_to_equity, dividends_declared, shares_issued)\n",
    "\n",
    "\n",
    "accum_comp_income(balance_earnings= 18465, other_income=11953)\n",
    "\n",
    "\n",
    "\n",
    "\n",
    "balance_earnings = 329283\n",
    "net_earnings = 69779\n",
    "other_income = 16536 # other_income() --- other comprehensive income + acc_comp_income() other income\n",
    "changes_to_equity = 109\n",
    "dividends_declared = 58210 \n",
    "shares_issued = 115\n",
    "\n",
    "total_equity(balance_earnings, net_earnings, other_income, changes_to_equity, dividends_declared,shares_issued)\n",
    "\n",
    "\n",
    "\n",
    "print(\"-------------------------------------------------------\\n\")"
   ]
  },
  {
   "cell_type": "markdown",
   "metadata": {},
   "source": [
    "Balance sheet"
   ]
  },
  {
   "cell_type": "code",
   "execution_count": 314,
   "metadata": {},
   "outputs": [
    {
     "name": "stdout",
     "output_type": "stream",
     "text": [
      "------------ BALANCE SHEET -------------\n",
      "Total assets = $793795 \n",
      "Total liabilities = $436183 \n",
      "Total shareholder equity = $357612\n",
      "... Balance Sheet: $793795 == $793795\n",
      "-----------------------------------------\n"
     ]
    }
   ],
   "source": [
    "assets = {\n",
    "    'cash': 37243,\n",
    "    'accounts_rec': 79373,\n",
    "    'inventory': 211736,\n",
    "    'prepaid_expenses': 7229,\n",
    "    'property_equip':345881,\n",
    "    'goodwill': 37260,\n",
    "    'intangible_assets': 32610,\n",
    "    'other_assets': 42463\n",
    "}\n",
    "\n",
    "liabilities = {\n",
    "    'accounts_payable_accrued': 152136,\n",
    "    'income_taxes_payable': 3365,\n",
    "    'longterm_debt': 225489,\n",
    "    'other_liabilities':55193\n",
    "}\n",
    "\n",
    "shareholders_equity ={\n",
    "    'share_capital':167910,\n",
    "    'retained_earnings':156664,\n",
    "    'accum_other_comp_income': 30418,\n",
    "    'other_equity_items': 2620\n",
    "}\n",
    "\n",
    "\n",
    "\n",
    "\n",
    "assets_list = list(assets.values())\n",
    "total_assets = sum(assets_list)\n",
    "\n",
    "liabilities_list = list(liabilities.values())\n",
    "total_liabilities = sum(liabilities_list)\n",
    "\n",
    "shareholder_equity_list = list(shareholders_equity.values())\n",
    "total_shareholder_equity = sum(shareholder_equity_list)\n",
    "\n",
    "balanced = total_shareholder_equity + total_liabilities\n",
    "\n",
    "print(\"------------ BALANCE SHEET -------------\")\n",
    "print(f\"Total assets = ${total_assets} \")\n",
    "print(f\"Total liabilities = ${total_liabilities} \")\n",
    "print(f\"Total shareholder equity = ${total_shareholder_equity}\")\n",
    "\n",
    "if (total_assets == balanced):\n",
    "    print(f\"... Balance Sheet: ${total_assets} == ${balanced}\")\n",
    "else:\n",
    "    print(f\"Balance sheet is not balanced\")\n",
    "\n",
    "print(\"-----------------------------------------\")\n"
   ]
  },
  {
   "cell_type": "markdown",
   "metadata": {},
   "source": [
    "statement of cash flows"
   ]
  },
  {
   "cell_type": "code",
   "execution_count": 330,
   "metadata": {},
   "outputs": [
    {
     "name": "stdout",
     "output_type": "stream",
     "text": [
      "---------- STATEMENT OF CASH FLOWS ----------\n",
      "Cash from operating activities = $132987\n",
      "... - $1656181\n",
      "Cash used in investing activities = $57174\n",
      "... - $7000\n",
      "Cash used in financing activities = $50174\n",
      "... - $12931\n",
      "Cash, end of year = $37243\n",
      "-------------------------------------------\n"
     ]
    }
   ],
   "source": [
    "cash_flows = {\n",
    "    'cash_receipts_from_activities':1789168,\n",
    "    'cash_payments_for_activities': 1656181,\n",
    "    'invest_property_plant_equip':63179,\n",
    "    'purchase_intangible_assets': 12804,\n",
    "    'proceeds_from_disposal_property': 170,\n",
    "    'fin_longterm_debt':13081,\n",
    "    'payments_dividends':58210,\n",
    "    'payment_of_interest':5160,\n",
    "    'issuance_common_shares': 115,\n",
    "    'net_increase_cash':7000,\n",
    "    'foreign_exchange_rates_on_cash':1114,\n",
    "    'cash_beginning_year':29129\n",
    "}\n",
    "\n",
    "\n",
    "\n",
    "cash_flow_list = list(cash_flows.values() )\n",
    "\n",
    "cash_from_operations = cash_flow_list[0] - cash_flow_list[1]\n",
    "operating_act = cash_flow_list[1]\n",
    "cash_used_invest = cash_from_operations - cash_flow_list[2] - cash_flow_list[3]+ cash_flow_list[4] \n",
    "invest_fin= cash_used_invest + cash_flow_list[5] - cash_flow_list[6] - cash_flow_list[7] + cash_flow_list[8]\n",
    "cash_used_fin = cash_used_invest - invest_fin\n",
    "cash_end_year = cash_flow_list[9] + cash_flow_list[10] + cash_flow_list[11]\n",
    "fin_act = cash_used_fin - cash_end_year\n",
    "\n",
    "print(\"---------- STATEMENT OF CASH FLOWS ----------\")\n",
    "print(f\"Cash from operating activities = ${cash_from_operations}\")\n",
    "print(f\"... - ${operating_act}\")\n",
    "print(f\"Cash used in investing activities = ${cash_used_invest}\")\n",
    "print(f\"... - ${invest_fin}\")\n",
    "print(f\"Cash used in financing activities = ${cash_used_fin}\")\n",
    "print(f\"... - ${fin_act}\")\n",
    "print(f\"Cash, end of year = ${cash_end_year}\")\n",
    "print(\"-------------------------------------------\")\n"
   ]
  },
  {
   "cell_type": "code",
   "execution_count": null,
   "metadata": {},
   "outputs": [],
   "source": []
  },
  {
   "cell_type": "code",
   "execution_count": null,
   "metadata": {},
   "outputs": [],
   "source": []
  },
  {
   "cell_type": "markdown",
   "metadata": {},
   "source": [
    "## chapter 2 - Financial statements"
   ]
  },
  {
   "cell_type": "code",
   "execution_count": 351,
   "metadata": {},
   "outputs": [],
   "source": [
    "# standard classification of financial position\n",
    "\n",
    "current_assets = {\n",
    "    'cash_cash_equivalents': 264.7,\n",
    "    'held_for_trading' : 0,\n",
    "    'accounts_receivable': 489.4,\n",
    "    'notes_receivable' : 0,\n",
    "    'inventory' : 1287.3,\n",
    "    'supplies' :0,\n",
    "    'prepaid_expenses': 117.3\n",
    "}\n",
    "\n",
    "non_current_assets = {\n",
    "    'long_term_investments': 0,\n",
    "    'property_plant_equipment': 0,\n",
    "    'intangible_assets' : 0,\n",
    "    'goodwill': 0\n",
    "}\n",
    "\n",
    "liabilities_shareholders_equity = {\n",
    "    # current liabilities\n",
    "    'bank_debt': 0,\n",
    "    'accounts_payable': 0,\n",
    "    'unearned_revenue' :0,\n",
    "    'notes_payable': 0,\n",
    "    'maturities_longterm_debt':0,\n",
    "    # non current liability\n",
    "    'bank_loan_payable':0,\n",
    "    # shareholder\n",
    "    'share_capital': 0,\n",
    "    'retained_earnings': 0\n",
    "}"
   ]
  },
  {
   "cell_type": "code",
   "execution_count": 354,
   "metadata": {},
   "outputs": [
    {
     "data": {
      "text/plain": [
       "{'cash': 0,\n",
       " 'held_for_trading': 0,\n",
       " 'accounts_receivable': 0,\n",
       " 'notes_receivable': 0,\n",
       " 'inventory': 0,\n",
       " 'supplies': 0,\n",
       " 'prepaid_expenses': 0}"
      ]
     },
     "execution_count": 354,
     "metadata": {},
     "output_type": "execute_result"
    }
   ],
   "source": [
    "# current_assets['cash'] = 0\n",
    "current_assets "
   ]
  },
  {
   "cell_type": "markdown",
   "metadata": {},
   "source": [
    "assets = resources that a company owns/controls that will provide economic benefits\n",
    "\n",
    "current assets = are converted into cash or to be sold or used up within 1 year of company's financial statement date\n",
    "\n",
    "operating cycle = avg period of time it takes for a business to pay cash to obtain products or services and then receive cash from customers for these products or services\n",
    "\n",
    "held for trading investments = investments in debt securities (bonds) of another company or equity securities  (shares) bought with intention of reselling them after period of time in order to earn income from price fluctuations\n",
    "\n",
    "accounts receivable = amounts owed to the company by customers who purchased products or srvices on credit (on accounts) and are invoiced\n",
    "\n",
    "    -  accrued revenues= interest, sales tax, rent, etc yet to be received in cash\n",
    "\n",
    "notes receivable = amounts owed to the company by customers or others that are supported by a writte promise to repay. Loan receivable are interest bearing (not accounts receivable)\n",
    "\n",
    "inventory = goods held for sale to customers\n",
    "\n",
    "supplies = items that are current asset, expected to be used up within 1 year\n",
    "\n",
    "prepaid expenses = cost of expenses (rent, insurance) paid in advance of use\n",
    "\n",
    "cash equivalents = short term highly liquid investments with very little risk that it can be easily sold\n"
   ]
  },
  {
   "cell_type": "code",
   "execution_count": null,
   "metadata": {},
   "outputs": [],
   "source": [
    "\n",
    "\n",
    "\n"
   ]
  },
  {
   "cell_type": "code",
   "execution_count": null,
   "metadata": {},
   "outputs": [],
   "source": []
  },
  {
   "cell_type": "code",
   "execution_count": null,
   "metadata": {},
   "outputs": [],
   "source": []
  },
  {
   "cell_type": "code",
   "execution_count": null,
   "metadata": {},
   "outputs": [],
   "source": []
  },
  {
   "cell_type": "code",
   "execution_count": null,
   "metadata": {},
   "outputs": [],
   "source": [
    "\n"
   ]
  },
  {
   "cell_type": "code",
   "execution_count": null,
   "metadata": {},
   "outputs": [],
   "source": []
  }
 ],
 "metadata": {
  "kernelspec": {
   "display_name": "Python 3.8.2 64-bit",
   "language": "python",
   "name": "python3"
  },
  "language_info": {
   "codemirror_mode": {
    "name": "ipython",
    "version": 3
   },
   "file_extension": ".py",
   "mimetype": "text/x-python",
   "name": "python",
   "nbconvert_exporter": "python",
   "pygments_lexer": "ipython3",
   "version": "3.8.2"
  },
  "orig_nbformat": 4,
  "vscode": {
   "interpreter": {
    "hash": "31f2aee4e71d21fbe5cf8b01ff0e069b9275f58929596ceb00d14d90e3e16cd6"
   }
  }
 },
 "nbformat": 4,
 "nbformat_minor": 2
}
