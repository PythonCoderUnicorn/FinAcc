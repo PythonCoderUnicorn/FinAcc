{
 "cells": [
  {
   "cell_type": "markdown",
   "metadata": {},
   "source": [
    "# Intermediate Accounting - volume 1"
   ]
  },
  {
   "cell_type": "markdown",
   "metadata": {},
   "source": [
    "## Chapter 1 - Fundamentals of Financial Accounting Theory\n",
    "\n",
    "Accounting is about communicating information , financial reporting is the process by which enterprises provide info to external parties. managerial accounting involves reporting of taxable amounts to government revenue authorities \n",
    "\n",
    "information asymmetry = where some people have more information than others\n",
    "\n",
    "\n"
   ]
  },
  {
   "cell_type": "code",
   "execution_count": 59,
   "metadata": {},
   "outputs": [
    {
     "name": "stdout",
     "output_type": "stream",
     "text": [
      "Cars available ($4000): ['A', 'B', 'C', 'D', 'E', 'F', 'G', 'H', 'I'] \n",
      "Dealers from I accept your bid of $4000\n"
     ]
    }
   ],
   "source": [
    "# adverse selection \n",
    "\n",
    "# item you want to buy\n",
    "item = {\n",
    "    'type': 'car',\n",
    "    'brand': 'Honda Civic',\n",
    "    'kms': 150_000,\n",
    "    'budget_min': 2_000,\n",
    "    'budget_max': 4_000 \n",
    "}\n",
    "\n",
    "def car_market( dict ):\n",
    "    car_id = ['A','B','C','D','E','F','G','H','I']\n",
    "\n",
    "    if dict['budget_max'] <= 2000:\n",
    "        print(f\"Car available ($2000): {car_id[0]} \")\n",
    "\n",
    "    elif dict['budget_max'] <= 2500:\n",
    "        # car id A B C\n",
    "        print(f\"Cars available ($2000 - $2500): {car_id[0:3]} \")\n",
    "\n",
    "    elif dict['budget_max'] <= 3000:\n",
    "        # car id D E\n",
    "        print(f\"Cars available ($3000) : {car_id[0:5]} \")\n",
    "\n",
    "    elif dict['budget_max'] <= 3500:\n",
    "        # car id F G\n",
    "        print(f\"Cars available ($3500): {car_id[0:7]} \")\n",
    "\n",
    "    elif dict['budget_max'] <= 4000:\n",
    "        # car id H I\n",
    "        print(f\"Cars available ($4000): {car_id[0:9]} \")\n",
    "\n",
    "    def make_offer():\n",
    "        bid = int(input(\"Make a bid : $ \"))\n",
    "\n",
    "        if bid >= 2000 and bid < 2500:\n",
    "            print(f\"Dealers from {car_id[2:9]} reject your bid of ${bid}\")\n",
    "            print(f\"Dealers from {car_id[0:2]} accept your bid of ${bid}\")\n",
    "\n",
    "        elif bid >= 2500 and bid <= 3000:\n",
    "            print(f\"Dealers from {car_id[4:9]} reject your bid of ${bid}\")\n",
    "            print(f\"Dealers from {car_id[2:4]} accept your bid of ${bid}\")\n",
    "\n",
    "        elif bid >= 3000 and bid <= 3500:\n",
    "            print(f\"Dealers from {car_id[4:6]} accept your bid of ${bid}\")\n",
    "\n",
    "        elif bid >= 3500 and bid < 4000:\n",
    "            print(f\"Dealers from {car_id[6:8]} accept your bid of ${bid}\")\n",
    "            # print(f\"Dealers from {car_id[5:9]} reject your bid of ${bid}\")\n",
    "\n",
    "        elif bid >= 4000:\n",
    "            print(f\"Dealers from {car_id[8]} accept your bid of ${bid}\")\n",
    "        \n",
    "        \n",
    "        else:\n",
    "            print(\" >> Make a reasonable offer\")\n",
    "            return make_offer()\n",
    "\n",
    "    # -----\n",
    "    make_offer()\n",
    "\n",
    "\n",
    "\n",
    "# ---------\n",
    "car_market( item )"
   ]
  },
  {
   "cell_type": "code",
   "execution_count": null,
   "metadata": {},
   "outputs": [],
   "source": []
  },
  {
   "cell_type": "code",
   "execution_count": null,
   "metadata": {},
   "outputs": [],
   "source": []
  }
 ],
 "metadata": {
  "kernelspec": {
   "display_name": "Python 3.8.2 64-bit",
   "language": "python",
   "name": "python3"
  },
  "language_info": {
   "codemirror_mode": {
    "name": "ipython",
    "version": 3
   },
   "file_extension": ".py",
   "mimetype": "text/x-python",
   "name": "python",
   "nbconvert_exporter": "python",
   "pygments_lexer": "ipython3",
   "version": "3.8.2"
  },
  "orig_nbformat": 4,
  "vscode": {
   "interpreter": {
    "hash": "31f2aee4e71d21fbe5cf8b01ff0e069b9275f58929596ceb00d14d90e3e16cd6"
   }
  }
 },
 "nbformat": 4,
 "nbformat_minor": 2
}
